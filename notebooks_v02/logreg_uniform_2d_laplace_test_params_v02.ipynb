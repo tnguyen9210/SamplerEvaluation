{
 "cells": [
  {
   "cell_type": "markdown",
   "id": "75acf400-9012-416f-ab8e-896be9d07f05",
   "metadata": {},
   "source": [
    "### Install and import packages"
   ]
  },
  {
   "cell_type": "code",
   "execution_count": 1,
   "id": "fffbaad4-45e5-460e-a579-487294cb45a0",
   "metadata": {},
   "outputs": [],
   "source": [
    "# Import packages\n",
    "import matplotlib.pyplot as plt\n",
    "\n",
    "import seaborn as sns\n",
    "sns.set()\n",
    "sns.set_palette(\"tab10\")\n",
    "\n",
    "import random as rnd\n",
    "import numpy as np\n",
    "rnd.seed(0)\n",
    "np.random.seed(0)\n",
    "\n",
    "import scipy.stats as stats\n",
    "import bayes_logistic\n",
    "\n",
    "from utils import *\n",
    "from cores import generate_prior_and_posterior_samples, sample_laplace_approx"
   ]
  },
  {
   "cell_type": "markdown",
   "id": "69222caf-f463-4b3c-a384-21f664dc3b14",
   "metadata": {},
   "source": [
    "### Set parameters"
   ]
  },
  {
   "cell_type": "code",
   "execution_count": 2,
   "id": "8787956b-f783-47dd-8800-78b6ebdb83c5",
   "metadata": {},
   "outputs": [],
   "source": [
    "# Set parameters\n",
    "# data_x parameters\n",
    "args = {}\n",
    "args[\"seed\"] = 1\n",
    "args[\"num_feats\"] = 2\n",
    "args[\"num_data\"] = 2\n",
    "args[\"num_data_half\"] = args['num_data'] // 2\n",
    "\n",
    "# num_samples\n",
    "args[\"num_samples\"] = 1000\n",
    "\n",
    "# weights prior distribution parameters\n",
    "args[\"weights_prior_params\"] = [[0.0, 0.0], [[1.0, 0.0], [0.0, 1.0]]]\n",
    "\n",
    "# init sigma used in numerical optimization for laplace approximation\n",
    "args[\"laplace_num_iters\"] = 1000"
   ]
  },
  {
   "cell_type": "markdown",
   "id": "be26f30d-e44b-47a7-bf7c-149d5e738292",
   "metadata": {},
   "source": [
    "### Generate data_x"
   ]
  },
  {
   "cell_type": "code",
   "execution_count": 3,
   "id": "00ba1a55-593d-4b3a-9ad4-d75746d6e792",
   "metadata": {},
   "outputs": [
    {
     "name": "stdout",
     "output_type": "stream",
     "text": [
      "[[0 1]\n",
      " [1 0]]\n",
      "(2, 2)\n"
     ]
    }
   ],
   "source": [
    "# Generate data_x\n",
    "# data_x = stats.uniform.rvs(0, 1, size=(num_data, num_feats), random_state=12345)\n",
    "data_x = np.array([[0, 1], [1, 0]])\n",
    "print(data_x)\n",
    "print(data_x.shape)"
   ]
  },
  {
   "cell_type": "markdown",
   "id": "079827af-6e2a-4e6c-a27d-e65d3727559c",
   "metadata": {},
   "source": [
    "### Sample weights, generate sample y from sample weights and visualize data"
   ]
  },
  {
   "cell_type": "code",
   "execution_count": 16,
   "id": "dbdb6e9e-0091-4db9-bd36-d5f8ef471a22",
   "metadata": {},
   "outputs": [
    {
     "name": "stdout",
     "output_type": "stream",
     "text": [
      "\n",
      "-> weights_prior_params\n",
      "[[0.0, 0.0], [[1.0, 0.0], [0.0, 1.0]]]\n",
      "MMD between prior a and prior b: 0.00128\n",
      "MMD between posterior a and prior b: 0.00265\n",
      "Wasserstein distance between prior a and prior b: 0.13764\n",
      "Wasserstein distance between posterior a and prior b: 0.15529\n",
      "Difference standard deviations between between prior a and prior b: 0.00717\n",
      "Difference standard deviations between posterior a and prior b: 0.03827\n",
      "\n",
      "-> weights_prior_params\n",
      "[[0.0, 0.0], [[4.0, -1.0], [-1.0, 4.0]]]\n",
      "MMD between prior a and prior b: 0.00161\n",
      "MMD between posterior a and prior b: 0.00322\n",
      "Wasserstein distance between prior a and prior b: 0.27549\n",
      "Wasserstein distance between posterior a and prior b: 0.35157\n",
      "Difference standard deviations between between prior a and prior b: 0.02339\n",
      "Difference standard deviations between posterior a and prior b: 0.28503\n",
      "\n",
      "-> weights_prior_params\n",
      "[[0.0, 0.0], [[25.0, 0.0], [0.0, 25.0]]]\n",
      "MMD between prior a and prior b: 0.00212\n",
      "MMD between posterior a and prior b: 0.00657\n",
      "Wasserstein distance between prior a and prior b: 0.68818\n",
      "Wasserstein distance between posterior a and prior b: 1.76355\n",
      "Difference standard deviations between between prior a and prior b: 0.03587\n",
      "Difference standard deviations between posterior a and prior b: 1.94168\n",
      "\n",
      "-> weights_prior_params\n",
      "[[0.0, 0.0], [[49.0, 0.0], [0.0, 49.0]]]\n",
      "MMD between prior a and prior b: 0.00219\n",
      "MMD between posterior a and prior b: 0.00693\n",
      "Wasserstein distance between prior a and prior b: 0.96345\n",
      "Wasserstein distance between posterior a and prior b: 3.14238\n",
      "Difference standard deviations between between prior a and prior b: 0.05021\n",
      "Difference standard deviations between posterior a and prior b: 3.54613\n"
     ]
    }
   ],
   "source": [
    "### Generate prior and posterior samples\n",
    "\n",
    "weights_prior_params_list = [\n",
    "    [[0.0, 0.0], [[1.0, 0.0], [0.0, 1.0]]],\n",
    "    [[0.0, 0.0], [[4.0, -1.0], [-1.0, 4.0]]],\n",
    "    [[0.0, 0.0], [[25.0, 0.0], [0.0, 25.0]]],\n",
    "    [[0.0, 0.0], [[49.0, 0.0], [0.0, 49.0]]],\n",
    "]\n",
    "\n",
    "for weights_prior_params in weights_prior_params_list:\n",
    "    print(\"\\n-> weights_prior_params\")\n",
    "    print(weights_prior_params)\n",
    "    args[\"weights_prior_params\"] = weights_prior_params\n",
    "    samples_a_weights_prior, samples_b_weights_prior, samples_a_weights_posterior = \\\n",
    "            generate_prior_and_posterior_samples(data_x, sample_laplace_approx, args)\n",
    "\n",
    "    samples_a_weights_prior = np.vstack(samples_a_weights_prior)\n",
    "    samples_b_weights_prior = np.vstack(samples_b_weights_prior)\n",
    "    samples_a_weights_posterior = np.vstack(samples_a_weights_posterior)\n",
    "    \n",
    "    # Maximum mean distance with RBF kernel\n",
    "    mmd_rbf_prior_a_prior_b = compute_mmd_rbf(samples_a_weights_prior, samples_b_weights_prior)\n",
    "    mmd_rbf_posterior_a_prior_b = compute_mmd_rbf(samples_a_weights_posterior, samples_b_weights_prior)\n",
    "    print(f\"MMD between prior a and prior b: {mmd_rbf_prior_a_prior_b:0.5f}\")\n",
    "    print(f\"MMD between posterior a and prior b: {mmd_rbf_posterior_a_prior_b:0.5f}\")\n",
    "    \n",
    "    # Wasserstein distance with RBF kernel\n",
    "    wd_prior_a_prior_b = compute_wasserstein_distance(samples_a_weights_prior, samples_b_weights_prior)\n",
    "    wd_posterior_a_prior_b = compute_wasserstein_distance(samples_a_weights_posterior, samples_b_weights_prior)\n",
    "    print(f\"Wasserstein distance between prior a and prior b: {wd_prior_a_prior_b:0.5f}\")\n",
    "    print(f\"Wasserstein distance between posterior a and prior b: {wd_posterior_a_prior_b:0.5f}\")\n",
    "    \n",
    "    # Difference between the standard deviations (from true mean) of two samples\n",
    "    weights_prior_params = args[\"weights_prior_params\"]\n",
    "    diff_std_prior_a_prior_b = compute_diff_std(samples_a_weights_prior, samples_b_weights_prior, weights_prior_params[0])\n",
    "    diff_std_posterior_a_prior_b = compute_diff_std(samples_a_weights_posterior, samples_b_weights_prior, weights_prior_params[0])\n",
    "    print(f\"Difference standard deviations between between prior a and prior b: {diff_std_prior_a_prior_b:0.5f}\")\n",
    "    print(f\"Difference standard deviations between posterior a and prior b: {diff_std_posterior_a_prior_b:0.5f}\")"
   ]
  }
 ],
 "metadata": {
  "kernelspec": {
   "display_name": "Python 3 (ipykernel)",
   "language": "python",
   "name": "python3"
  },
  "language_info": {
   "codemirror_mode": {
    "name": "ipython",
    "version": 3
   },
   "file_extension": ".py",
   "mimetype": "text/x-python",
   "name": "python",
   "nbconvert_exporter": "python",
   "pygments_lexer": "ipython3",
   "version": "3.9.12"
  }
 },
 "nbformat": 4,
 "nbformat_minor": 5
}
