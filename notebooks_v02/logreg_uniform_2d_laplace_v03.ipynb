{
 "cells": [
  {
   "cell_type": "markdown",
   "id": "75acf400-9012-416f-ab8e-896be9d07f05",
   "metadata": {},
   "source": [
    "### Install and import packages"
   ]
  },
  {
   "cell_type": "code",
   "execution_count": 1,
   "id": "fffbaad4-45e5-460e-a579-487294cb45a0",
   "metadata": {},
   "outputs": [],
   "source": [
    "# Import packages\n",
    "import matplotlib.pyplot as plt\n",
    "import seaborn as sns\n",
    "sns.set()\n",
    "sns.set_palette(\"tab10\")\n",
    "\n",
    "import random as rnd\n",
    "import numpy as np\n",
    "rnd.seed(0)\n",
    "np.random.seed(0)\n",
    "\n",
    "import scipy.stats as stats\n",
    "import bayes_logistic\n",
    "\n",
    "from utils import *"
   ]
  },
  {
   "cell_type": "markdown",
   "id": "69222caf-f463-4b3c-a384-21f664dc3b14",
   "metadata": {},
   "source": [
    "### Set parameters"
   ]
  },
  {
   "cell_type": "code",
   "execution_count": 2,
   "id": "8787956b-f783-47dd-8800-78b6ebdb83c5",
   "metadata": {},
   "outputs": [],
   "source": [
    "# Set parameters\n",
    "# data_x parameters\n",
    "num_data = 2\n",
    "num_data_half = num_data // 2\n",
    "num_feats = 2\n",
    "\n",
    "# num_samples \n",
    "num_samples = 10000\n",
    "\n",
    "# weights prior distribution parameters\n",
    "weights_prior_params = [\n",
    "    [0.0, 0.0], [[1.0, 0.0], [0.0, 1.0]]]\n",
    "\n",
    "# init sigma used in numerical optimization for laplace approximation\n",
    "laplace_num_iters = 1000"
   ]
  },
  {
   "cell_type": "markdown",
   "id": "be26f30d-e44b-47a7-bf7c-149d5e738292",
   "metadata": {},
   "source": [
    "### Generate data_x"
   ]
  },
  {
   "cell_type": "code",
   "execution_count": 3,
   "id": "00ba1a55-593d-4b3a-9ad4-d75746d6e792",
   "metadata": {},
   "outputs": [
    {
     "name": "stdout",
     "output_type": "stream",
     "text": [
      "(2, 2)\n"
     ]
    }
   ],
   "source": [
    "# Generate data_x\n",
    "num_data = 50\n",
    "# data_x = stats.uniform.rvs(0, 1, size=(num_data, num_feats), random_state=12345)\n",
    "data_x = np.array([[0, 1], [1, 0]])\n",
    "print(data_x.shape)"
   ]
  },
  {
   "cell_type": "markdown",
   "id": "079827af-6e2a-4e6c-a27d-e65d3727559c",
   "metadata": {},
   "source": [
    "### Sample weights, generate sample y from sample weights and visualize data"
   ]
  },
  {
   "cell_type": "markdown",
   "id": "3f1577be-b69b-4679-9c77-a292b1e06a13",
   "metadata": {},
   "source": [
    "### Generate prior and posterior samples\n",
    "\n",
    "Generate two set of prior samples A and B\n",
    "\n",
    "$$\n",
    "\\begin{align*}\n",
    "    & A = \\{ \\theta_i \\}_{i=1}^N, \\; \\theta_i \\sim p(\\theta) \\\\\n",
    "    & B = \\{ \\theta_i \\}_{i=1}^N, \\; \\theta_i \\sim p(\\theta)\n",
    "\\end{align*}\n",
    "$$\n",
    "\n",
    "Generate a set of posterior from prior samples A\n",
    "\n",
    "Notes: \n",
    "- $x$ is fixed and generated from the above procedure. Only $y_i$ is generated from $\\theta_i$.\n",
    "\n",
    "$$\n",
    "\\begin{align*}\n",
    "    & C' = \\{ \\theta_i' \\}_{i=1}^N, \\\\\n",
    "    & \\theta_i' \\sim p(\\theta|x, y_i), \\\\\n",
    "    & y_i \\sim p(y_i|x, \\theta_i), \\; \\theta_i \\in A\n",
    "\\end{align*}\n",
    "$$"
   ]
  },
  {
   "cell_type": "code",
   "execution_count": 4,
   "id": "dbdb6e9e-0091-4db9-bd36-d5f8ef471a22",
   "metadata": {},
   "outputs": [
    {
     "ename": "NameError",
     "evalue": "name 'samples_a_weights_posterior_pdf' is not defined",
     "output_type": "error",
     "traceback": [
      "\u001b[0;31m---------------------------------------------------------------------------\u001b[0m",
      "\u001b[0;31mNameError\u001b[0m                                 Traceback (most recent call last)",
      "Cell \u001b[0;32mIn [4], line 40\u001b[0m\n\u001b[1;32m     38\u001b[0m     sample_a_weights_posterior \u001b[38;5;241m=\u001b[39m stats\u001b[38;5;241m.\u001b[39mmultivariate_normal\u001b[38;5;241m.\u001b[39mrvs(w_map, cov_map)\n\u001b[1;32m     39\u001b[0m     samples_a_weights_posterior\u001b[38;5;241m.\u001b[39mappend(sample_a_weights_posterior)  \n\u001b[0;32m---> 40\u001b[0m     \u001b[43msamples_a_weights_posterior_pdf\u001b[49m\u001b[38;5;241m.\u001b[39mappend(\n\u001b[1;32m     41\u001b[0m         stats\u001b[38;5;241m.\u001b[39mmultivariate_normal\u001b[38;5;241m.\u001b[39mpdf(\n\u001b[1;32m     42\u001b[0m             sample_a_weights_posterior, w_map, cov_map))\n\u001b[1;32m     43\u001b[0m     \u001b[38;5;66;03m# samples_a_weights_posterior_params.append([w_map, cov_map])\u001b[39;00m\n\u001b[1;32m     45\u001b[0m samples_a_weights_prior \u001b[38;5;241m=\u001b[39m np\u001b[38;5;241m.\u001b[39mvstack(samples_a_weights_prior)\n",
      "\u001b[0;31mNameError\u001b[0m: name 'samples_a_weights_posterior_pdf' is not defined"
     ]
    }
   ],
   "source": [
    "### Generate prior and posterior samples\n",
    "\n",
    "# generate samples A of weights prior\n",
    "samples_a_weights_prior = stats.multivariate_normal.rvs(\n",
    "    weights_prior_params[0], weights_prior_params[1], \n",
    "    size=(num_samples), random_state=1)\n",
    "\n",
    "# generate samples B of weights prior\n",
    "samples_b_weights_prior = stats.multivariate_normal.rvs(\n",
    "    weights_prior_params[0], weights_prior_params[1], \n",
    "    size=(num_samples), random_state=11)\n",
    "\n",
    "# generate samples C of weights posterior using samples A of weights prior\n",
    "samples_a_weights_posterior = []\n",
    "samples_a_weights_posterior_params = []\n",
    "for sidx in range(num_samples):\n",
    "    # for each sample w_i in A\n",
    "    sample_a_weights_prior = samples_a_weights_prior[sidx].reshape(1, num_feats)\n",
    "    \n",
    "    # generate sample y_i from Ber(x, w_i)\n",
    "    sample_a_logit = 1.0 / (1 + np.exp(-np.matmul(data_x, sample_a_weights_prior.T)))\n",
    "    sample_a_y = stats.bernoulli.rvs(sample_a_logit)\n",
    "    \n",
    "    # fit laplace approximation for pair (x, y_i)\n",
    "    w_map, h_map = bayes_logistic.fit_bayes_logistic(\n",
    "        y = sample_a_y.squeeze(-1),\n",
    "        X = data_x, \n",
    "        wprior = np.array(weights_prior_params[0]), # initialize wprior same as prior params\n",
    "        H = np.linalg.inv(np.array(weights_prior_params[1])),\n",
    "        weights = None,\n",
    "        solver = \"Newton-CG\",\n",
    "        bounds = None,\n",
    "        maxiter = laplace_num_iters\n",
    "    )\n",
    "    cov_map = np.linalg.inv(h_map)\n",
    "    \n",
    "    # sample weights' posterior p(w|x,y_i)\n",
    "    sample_a_weights_posterior = stats.multivariate_normal.rvs(w_map, cov_map)\n",
    "    samples_a_weights_posterior.append(sample_a_weights_posterior)  \n",
    "    samples_a_weights_posterior_pdf.append(\n",
    "        stats.multivariate_normal.pdf(\n",
    "            sample_a_weights_posterior, w_map, cov_map))\n",
    "    # samples_a_weights_posterior_params.append([w_map, cov_map])\n",
    "\n",
    "samples_a_weights_prior = np.vstack(samples_a_weights_prior)\n",
    "samples_b_weights_prior = np.vstack(samples_b_weights_prior)\n",
    "samples_a_weights_posterior = np.vstack(samples_a_weights_posterior)\n",
    "samples_a_weights_posterior_pdf = np.vstack(samples_a_weights_posterior)\n",
    "print(samples_a_weights_prior.shape)\n",
    "# print(samples_b_weights_prior)\n",
    "# print(samples_a_weights_posterior)"
   ]
  },
  {
   "cell_type": "markdown",
   "id": "4cd72991-e393-4739-9b20-b107fd576e5b",
   "metadata": {},
   "source": [
    "### Visualize the generated prior and posterior samples"
   ]
  },
  {
   "cell_type": "code",
   "execution_count": null,
   "id": "a9cf71e4-31d0-44be-a32e-6957aff19005",
   "metadata": {},
   "outputs": [],
   "source": [
    "# # Visualize the generated prior and posterior samples, individual features\n",
    "# nrows = 2\n",
    "# fig, axes = plt.subplots(nrows=2, ncols=1, sharex=True, sharey=True, figsize=(8,8))\n",
    "# axes = axes.flatten()\n",
    "\n",
    "# for i in range(nrows):\n",
    "#     sns.kdeplot(samples_a_weights_prior[:,i], fill=False, color=\"red\", label=\"samples_a_prior\", ax=axes[i])\n",
    "#     sns.kdeplot(samples_b_weights_prior[:,i], fill=False, color=\"green\", label=\"samples_b_prior\", ax=axes[i])\n",
    "#     sns.kdeplot(samples_a_weights_posterior[:,i], fill=False, color=\"blue\", label=\"samples_a_posterior\", ax=axes[i])\n",
    "#     axes[i].legend(loc=\"upper right\")\n",
    "# plt.show()"
   ]
  },
  {
   "cell_type": "code",
   "execution_count": null,
   "id": "9743d24e-c51f-4539-aeca-9f84658ff216",
   "metadata": {},
   "outputs": [],
   "source": [
    "# Visualize the generated prior and posterior samples, individual features\n",
    "nrows = 2\n",
    "fig, axes = plt.subplots(nrows=2, ncols=1, sharex=True, sharey=True, figsize=(10,8))\n",
    "axes = axes.flatten()\n",
    "\n",
    "num_hist = 5\n",
    "samples_a_weights_posterior_all = []\n",
    "for j in range(num_hist):\n",
    "    idx = np.random.randint(num_samples)\n",
    "    w_map_j, cov_map_j = samples_a_weights_posterior_params[idx]\n",
    "    samples_a_weights_posterior_j = stats.multivariate_normal.rvs(w_map_j, cov_map_j, size=(10000), random_state=j)\n",
    "    samples_a_weights_posterior_all.append(samples_a_weights_posterior_j)\n",
    "    \n",
    "for i in range(nrows):\n",
    "    sns.kdeplot(samples_a_weights_prior[:,i], fill=False, color=\"red\", label=\"samples_a_prior\", ax=axes[i])\n",
    "    sns.kdeplot(samples_b_weights_prior[:,i], fill=False, color=\"green\", label=\"samples_b_prior\", ax=axes[i])\n",
    "    sns.kdeplot(samples_a_weights_posterior[:,i], fill=False, color=\"blue\", label=\"samples_a_posterior\", ax=axes[i])\n",
    "    \n",
    "    for j in range(num_hist):\n",
    "        samples_a_weights_posterior_j = samples_a_weights_posterior_all[j]\n",
    "        sns.kdeplot(samples_a_weights_posterior_j[:,i], fill=False, color=\"lightsteelblue\", linestyle=\"--\",\n",
    "                    label=f\"samples_a_posterior_{j}\", ax=axes[i])\n",
    "        \n",
    "    axes[i].legend(loc=\"upper right\")\n",
    "plt.show()"
   ]
  },
  {
   "cell_type": "code",
   "execution_count": null,
   "id": "14254641-be91-4ff3-bfd7-2204feec05fa",
   "metadata": {},
   "outputs": [],
   "source": [
    "# Visualize the generated prior and posterior samples, pair of features\n",
    "fig, axes = plt.subplots(nrows=1, ncols=3, sharex=True, sharey=True, figsize=(10,10))\n",
    "axes = axes.flatten()\n",
    "\n",
    "sns.kdeplot(x=samples_a_weights_prior[:,0], y=samples_a_weights_prior[:,1], n_levels=20, \n",
    "            cmap=\"inferno\", fill=False, ax=axes[0])\n",
    "\n",
    "sns.kdeplot(x=samples_b_weights_prior[:,0], y=samples_b_weights_prior[:,1], n_levels=20, \n",
    "            cmap=\"inferno\", fill=False, ax=axes[1])\n",
    "\n",
    "sns.kdeplot(x=samples_a_weights_posterior[:,0], y=samples_a_weights_posterior[:,1], n_levels=20, \n",
    "            cmap=\"inferno\", fill=False, ax=axes[2])\n",
    "axes[0].set_aspect(aspect=\"equal\")\n",
    "axes[1].set_aspect(aspect=\"equal\")\n",
    "axes[2].set_aspect(aspect=\"equal\")\n",
    "axes[0].set_title(\"samples_a_prior\")\n",
    "axes[1].set_title(\"samples_b_prior\")\n",
    "axes[2].set_title(\"samples_a_posterior\")\n",
    "plt.show()"
   ]
  },
  {
   "cell_type": "markdown",
   "id": "33babeb1-81e8-45be-8eaf-f8f9d258845e",
   "metadata": {},
   "source": [
    "### Measure the differences between the prior and samples\n",
    "\n",
    "* Kernelized two sample test: maximum mean distance with RBF kernel\n",
    "* Wasserstein distance of two samples\n",
    "* Difference between the standard deviations (from true mean) of two samples"
   ]
  },
  {
   "cell_type": "code",
   "execution_count": null,
   "id": "27a54749-5072-43fc-996f-0ed504d4fb5e",
   "metadata": {},
   "outputs": [],
   "source": [
    "# Maximum mean distance with RBF kernel\n",
    "mmd_rbf_prior_a_prior_b = compute_mmd_rbf(samples_a_weights_prior, samples_b_weights_prior)\n",
    "mmd_rbf_posterior_a_prior_b = compute_mmd_rbf(samples_a_weights_posterior, samples_b_weights_prior)\n",
    "print(f\"MMD between prior a and prior b: {mmd_rbf_prior_a_prior_b:0.5f}\")\n",
    "print(f\"MMD between posterior a and prior b: {mmd_rbf_posterior_a_prior_b:0.5f}\")"
   ]
  },
  {
   "cell_type": "code",
   "execution_count": null,
   "id": "3178b2c6-1be2-4b9a-a9cb-2cece6687774",
   "metadata": {},
   "outputs": [],
   "source": [
    "# Wasserstein distance with RBF kernel\n",
    "wd_prior_a_prior_b = compute_wasserstein_distance(samples_a_weights_prior, samples_b_weights_prior)\n",
    "wd_posterior_a_prior_b = compute_wasserstein_distance(samples_a_weights_posterior, samples_b_weights_prior)\n",
    "print(f\"Wasserstein distance between prior a and prior b: {wd_prior_a_prior_b:0.5f}\")\n",
    "print(f\"Wasserstein distance between posterior a and prior b: {wd_posterior_a_prior_b:0.5f}\")"
   ]
  },
  {
   "cell_type": "code",
   "execution_count": null,
   "id": "7eec3801-77d5-43ee-b059-4f9d4ace43dc",
   "metadata": {},
   "outputs": [],
   "source": [
    "# Difference between the standard deviations (from true mean) of two samples\n",
    "diff_std_prior_a_prior_b = compute_diff_std(samples_a_weights_prior, samples_b_weights_prior, weights_prior_params[0])\n",
    "diff_std_posterior_a_prior_b = compute_diff_std(samples_a_weights_posterior, samples_b_weights_prior, weights_prior_params[0])\n",
    "print(f\"Difference standard deviations between between prior a and prior b: {diff_std_prior_a_prior_b:0.5f}\")\n",
    "print(f\"Difference standard deviations between posterior a and prior b: {diff_std_posterior_a_prior_b:0.5f}\")"
   ]
  }
 ],
 "metadata": {
  "kernelspec": {
   "display_name": "Python 3 (ipykernel)",
   "language": "python",
   "name": "python3"
  },
  "language_info": {
   "codemirror_mode": {
    "name": "ipython",
    "version": 3
   },
   "file_extension": ".py",
   "mimetype": "text/x-python",
   "name": "python",
   "nbconvert_exporter": "python",
   "pygments_lexer": "ipython3",
   "version": "3.10.8"
  }
 },
 "nbformat": 4,
 "nbformat_minor": 5
}
