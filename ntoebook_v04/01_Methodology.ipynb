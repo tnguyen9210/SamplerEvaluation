{
 "cells": [
  {
   "cell_type": "markdown",
   "id": "3f1577be-b69b-4679-9c77-a292b1e06a13",
   "metadata": {},
   "source": [
    "### Generate prior and posterior samples\n",
    "\n",
    "Generate two sets of samples A and B of weight priors\n",
    "\n",
    "$$\n",
    "\\begin{align*}\n",
    "    & A = \\{ w_i \\}_{i=1}^N, \\; w_i \\sim p(w) \\\\\n",
    "    & B = \\{ w_i \\}_{i=1}^N, \\; w_i \\sim p(w)\n",
    "\\end{align*}\n",
    "$$\n",
    "\n",
    "Generate a set of samples C of weights posterior using samples A of weights prior\n",
    "\n",
    "For every $w_i \\in A = \\{ w_i \\}_{i=1}^N $\n",
    "\n",
    "- step 1: generate $y_i \\sim p(y_i|x,w_i)$\n",
    "- step 2: generate $w_i' \\sim p(w_i'|x, y_i)$ (posterior sampling)\n",
    "\n",
    "Gather all posterior samples $C = \\{ w_i' \\}_{i=1}^N$\n",
    "\n",
    "Notes: \n",
    "- $x$ is fixed and generated from the above procedure. Only $y_i$ is generated from $\\theta_i$.\n"
   ]
  },
  {
   "cell_type": "markdown",
   "id": "4cd72991-e393-4739-9b20-b107fd576e5b",
   "metadata": {},
   "source": [
    "### Visualize the generated prior and posterior samples"
   ]
  },
  {
   "cell_type": "markdown",
   "id": "33babeb1-81e8-45be-8eaf-f8f9d258845e",
   "metadata": {},
   "source": [
    "### Two-sample statistic tests with distance measurement between the two samples \n",
    "\n",
    "* Non-parametric Kernel two-sample test with Maximum Mean Discrepancy (MMD) (Gretton et al., 2012)\n",
    "* Non-parametric Wasserstein two-sample test with Wasserstein distance (Ramdas et al., 2015)\n",
    "* Difference between the standard deviations (from true mean) of two samples"
   ]
  }
 ],
 "metadata": {
  "kernelspec": {
   "display_name": "Python 3 (ipykernel)",
   "language": "python",
   "name": "python3"
  },
  "language_info": {
   "codemirror_mode": {
    "name": "ipython",
    "version": 3
   },
   "file_extension": ".py",
   "mimetype": "text/x-python",
   "name": "python",
   "nbconvert_exporter": "python",
   "pygments_lexer": "ipython3",
   "version": "3.10.8"
  }
 },
 "nbformat": 4,
 "nbformat_minor": 5
}
